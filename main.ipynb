{
 "cells": [
  {
   "cell_type": "markdown",
   "metadata": {},
   "source": [
    "<h1>PROJETO – RECONHECER FORMAS GEOMÉTRICAS</h1>"
   ]
  },
  {
   "cell_type": "markdown",
   "metadata": {},
   "source": [
    "<h3>CONTEXTUALIZAÇÃO E OBJETIVO</h3>\n",
    "\n",
    "<p>Uma das abordagens para reconhecer objetos em imagens é extrair a quantidade de vértices\n",
    "que ele possui. Esta técnica pode ser aplicada com o intuito de reconhecer figuras geométricas\n",
    "em imagens.</p>\n",
    "<p>Neste mini projeto, você deverá criar um programa em Python, usando a biblioteca OpenCV,\n",
    "para reconhecer figuras geométricas (que representam um quadrado, um triângulo ou um\n",
    "círculo) em frames de uma captura de vídeo. Para isso, cada forma geométrica que entrar na\n",
    "tela deverá ser apresentado na tela o nome da respectiva forma geométrica, conforme ilustrado\n",
    "na figura abaixo.</p>\n",
    "\n",
    "<center><img src=\"assets/demo.png\"></center>"
   ]
  },
  {
   "cell_type": "code",
   "execution_count": 11,
   "metadata": {},
   "outputs": [],
   "source": [
    "import cv2 as cv\n",
    "\n",
    "video = cv.VideoCapture('./assets/formas-geometricas.mov')\n",
    "\n",
    "if (video.isOpened()== False):  \n",
    "    print(\"Error opening video file\")   \n",
    "\n",
    "while(video.isOpened()):     \n",
    "    ret, frame = video.read() \n",
    "    if ret == True:              \n",
    "        cv.putText(\n",
    "            frame, # Current running frame of the video.\n",
    "            'Triangulo', # The text string to be inserted.\n",
    "            (50, 50), # Bottom-left corner of the text string\n",
    "            cv.FONT_HERSHEY_SIMPLEX, 1, # The type of font to be used. \n",
    "            (0, 128, 0), # The colour of the font.\n",
    "            2, # The thickness of the font            \n",
    "        ) \n",
    "        cv.imshow('Frame', frame)  \n",
    "       \n",
    "    if cv.waitKey(25) & 0xFF == ord('q'): \n",
    "        break         \n",
    "   \n",
    "video.release()    \n",
    "cv.destroyAllWindows()  "
   ]
  }
 ],
 "metadata": {
  "kernelspec": {
   "display_name": "base",
   "language": "python",
   "name": "python3"
  },
  "language_info": {
   "codemirror_mode": {
    "name": "ipython",
    "version": 3
   },
   "file_extension": ".py",
   "mimetype": "text/x-python",
   "name": "python",
   "nbconvert_exporter": "python",
   "pygments_lexer": "ipython3",
   "version": "3.11.5"
  }
 },
 "nbformat": 4,
 "nbformat_minor": 2
}

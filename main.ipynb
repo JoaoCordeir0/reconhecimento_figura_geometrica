{
 "cells": [
  {
   "cell_type": "markdown",
   "metadata": {},
   "source": [
    "<h1>PROJETO – RECONHECER FORMAS GEOMÉTRICAS</h1>"
   ]
  },
  {
   "cell_type": "markdown",
   "metadata": {},
   "source": [
    "<h3>CONTEXTUALIZAÇÃO E OBJETIVO</h3>\n",
    "\n",
    "<p>Uma das abordagens para reconhecer objetos em imagens é extrair a quantidade de vértices\n",
    "que ele possui. Esta técnica pode ser aplicada com o intuito de reconhecer figuras geométricas\n",
    "em imagens.</p>\n",
    "<p>Neste mini projeto, você deverá criar um programa em Python, usando a biblioteca OpenCV,\n",
    "para reconhecer figuras geométricas (que representam um quadrado, um triângulo ou um\n",
    "círculo) em frames de uma captura de vídeo. Para isso, cada forma geométrica que entrar na\n",
    "tela deverá ser apresentado na tela o nome da respectiva forma geométrica, conforme ilustrado\n",
    "na figura abaixo.</p>\n",
    "\n",
    "<center><img src=\"assets/demo.png\"></center>"
   ]
  },
  {
   "cell_type": "code",
   "execution_count": 3,
   "metadata": {},
   "outputs": [],
   "source": [
    "import cv2 as cv\n",
    "\n",
    "# Carrega o video usando opencv\n",
    "video = cv.VideoCapture('./assets/formas-geometricas.mov')\n",
    "\n",
    "# Verifica se o video foi carregado corretamente\n",
    "if (video.isOpened()== False):  \n",
    "    print(\"Error opening video file\")   \n",
    "\n",
    "# Função que retorna o nome da figura que contém na imagem com base no frame passado\n",
    "def getFigureName(image):    \n",
    "    gray = cv.cvtColor(image, cv.COLOR_BGR2GRAY)\n",
    "    canny = cv.Canny(gray, 10, 150)\n",
    "    canny = cv.dilate(canny, None, iterations=1)\n",
    "    canny = cv.erode(canny, None, iterations=1)\n",
    "    cnts,_ = cv.findContours(canny, cv.RETR_EXTERNAL, cv.CHAIN_APPROX_SIMPLE)\n",
    "\n",
    "    for c in cnts:\n",
    "        epsilon = 0.01 * cv.arcLength(c,True)\n",
    "        approx = cv.approxPolyDP(c,epsilon,True)    \n",
    "        x,y,w,h = cv.boundingRect(approx)\n",
    "\n",
    "        # 3 vertices = triangulo\n",
    "        if len(approx) == 3:\n",
    "            return 'Triangulo'\n",
    "        \n",
    "        # 4 vertices = quadrado ou retangulo\n",
    "        if len(approx) == 4:\n",
    "            # Caso o tamanho e largura sejam iguais, é um quadrado\n",
    "            if (float(w) / h) == 1:\n",
    "                return 'Quadrado'\n",
    "            else:\n",
    "                return 'Retangulo'\n",
    "\n",
    "        # 5 vertices = pentagono\n",
    "        if len(approx) == 5:\n",
    "            return 'Pentagono'      \n",
    "\n",
    "        # Mais de 10 vertices = circulo    \n",
    "        if len(approx) > 10:\n",
    "            return 'Circulo'\n",
    "        \n",
    "    return 'Nenhuma figura detectada'\n",
    "    \n",
    "# Função que exibe cada frame do video\n",
    "def showVideo(video):\n",
    "    while(video.isOpened()):     \n",
    "        ret, frame = video.read() \n",
    "        if ret == True:              \n",
    "            figure_name = getFigureName(frame)\n",
    "            cv.putText(\n",
    "                frame, # Current running frame of the video.\n",
    "                str(figure_name), # The text string to be inserted.\n",
    "                (10, 30), # Bottom-left corner of the text string\n",
    "                cv.FONT_HERSHEY_SIMPLEX, 1, # The type of font to be used. \n",
    "                (0, 128, 0), # The colour of the font.\n",
    "                2, # The thickness of the font            \n",
    "            ) \n",
    "            cv.imshow('Frame', frame)  \n",
    "        \n",
    "        # Q fecha o programa\n",
    "        if cv.waitKey(25) & 0xFF == ord('q'): \n",
    "            break        \n",
    "\n",
    "showVideo(video) \n",
    "   \n",
    "video.release()    \n",
    "cv.destroyAllWindows()  "
   ]
  }
 ],
 "metadata": {
  "kernelspec": {
   "display_name": "base",
   "language": "python",
   "name": "python3"
  },
  "language_info": {
   "codemirror_mode": {
    "name": "ipython",
    "version": 3
   },
   "file_extension": ".py",
   "mimetype": "text/x-python",
   "name": "python",
   "nbconvert_exporter": "python",
   "pygments_lexer": "ipython3",
   "version": "3.11.9"
  }
 },
 "nbformat": 4,
 "nbformat_minor": 2
}
